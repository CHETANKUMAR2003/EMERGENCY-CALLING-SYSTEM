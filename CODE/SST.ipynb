{
 "cells": [
  {
   "cell_type": "code",
   "execution_count": 1,
   "id": "306c2123",
   "metadata": {},
   "outputs": [
    {
     "name": "stdout",
     "output_type": "stream",
     "text": [
      "Collecting twilio\n",
      "  Downloading twilio-9.3.1-py2.py3-none-any.whl.metadata (12 kB)\n",
      "Requirement already satisfied: requests>=2.0.0 in c:\\users\\chetan\\anaconda3\\lib\\site-packages (from twilio) (2.31.0)\n",
      "Requirement already satisfied: PyJWT<3.0.0,>=2.0.0 in c:\\users\\chetan\\anaconda3\\lib\\site-packages (from twilio) (2.4.0)\n",
      "Requirement already satisfied: aiohttp>=3.8.4 in c:\\users\\chetan\\anaconda3\\lib\\site-packages (from twilio) (3.9.3)\n",
      "Collecting aiohttp-retry>=2.8.3 (from twilio)\n",
      "  Downloading aiohttp_retry-2.8.3-py3-none-any.whl.metadata (8.9 kB)\n",
      "Requirement already satisfied: aiosignal>=1.1.2 in c:\\users\\chetan\\anaconda3\\lib\\site-packages (from aiohttp>=3.8.4->twilio) (1.2.0)\n",
      "Requirement already satisfied: attrs>=17.3.0 in c:\\users\\chetan\\anaconda3\\lib\\site-packages (from aiohttp>=3.8.4->twilio) (23.1.0)\n",
      "Requirement already satisfied: frozenlist>=1.1.1 in c:\\users\\chetan\\anaconda3\\lib\\site-packages (from aiohttp>=3.8.4->twilio) (1.4.0)\n",
      "Requirement already satisfied: multidict<7.0,>=4.5 in c:\\users\\chetan\\anaconda3\\lib\\site-packages (from aiohttp>=3.8.4->twilio) (6.0.4)\n",
      "Requirement already satisfied: yarl<2.0,>=1.0 in c:\\users\\chetan\\anaconda3\\lib\\site-packages (from aiohttp>=3.8.4->twilio) (1.9.3)\n",
      "Requirement already satisfied: charset-normalizer<4,>=2 in c:\\users\\chetan\\anaconda3\\lib\\site-packages (from requests>=2.0.0->twilio) (2.0.4)\n",
      "Requirement already satisfied: idna<4,>=2.5 in c:\\users\\chetan\\anaconda3\\lib\\site-packages (from requests>=2.0.0->twilio) (3.4)\n",
      "Requirement already satisfied: urllib3<3,>=1.21.1 in c:\\users\\chetan\\anaconda3\\lib\\site-packages (from requests>=2.0.0->twilio) (2.0.7)\n",
      "Requirement already satisfied: certifi>=2017.4.17 in c:\\users\\chetan\\anaconda3\\lib\\site-packages (from requests>=2.0.0->twilio) (2024.2.2)\n",
      "Downloading twilio-9.3.1-py2.py3-none-any.whl (1.8 MB)\n",
      "   ---------------------------------------- 0.0/1.8 MB ? eta -:--:--\n",
      "   ---------------------------------------- 0.0/1.8 MB ? eta -:--:--\n",
      "    --------------------------------------- 0.0/1.8 MB 325.1 kB/s eta 0:00:06\n",
      "    --------------------------------------- 0.0/1.8 MB 326.8 kB/s eta 0:00:06\n",
      "   -- ------------------------------------- 0.1/1.8 MB 476.3 kB/s eta 0:00:04\n",
      "   --- ------------------------------------ 0.2/1.8 MB 807.1 kB/s eta 0:00:03\n",
      "   -------- ------------------------------- 0.4/1.8 MB 1.5 MB/s eta 0:00:01\n",
      "   ----------------- ---------------------- 0.8/1.8 MB 2.7 MB/s eta 0:00:01\n",
      "   ----------------------------- ---------- 1.3/1.8 MB 3.9 MB/s eta 0:00:01\n",
      "   ------------------------------------- -- 1.7/1.8 MB 4.4 MB/s eta 0:00:01\n",
      "   ---------------------------------------- 1.8/1.8 MB 4.4 MB/s eta 0:00:00\n",
      "Downloading aiohttp_retry-2.8.3-py3-none-any.whl (9.8 kB)\n",
      "Installing collected packages: aiohttp-retry, twilio\n",
      "Successfully installed aiohttp-retry-2.8.3 twilio-9.3.1\n",
      "Note: you may need to restart the kernel to use updated packages.\n"
     ]
    }
   ],
   "source": [
    "pip install twilio"
   ]
  },
  {
   "cell_type": "code",
   "execution_count": 3,
   "id": "a320f3e6",
   "metadata": {},
   "outputs": [
    {
     "name": "stdout",
     "output_type": "stream",
     "text": [
      "Accuracy: 0.95\n",
      "Danger detected! Initiating automated call...\n"
     ]
    },
    {
     "name": "stderr",
     "output_type": "stream",
     "text": [
      "C:\\Users\\chetan\\anaconda3\\Lib\\site-packages\\sklearn\\base.py:439: UserWarning: X does not have valid feature names, but RandomForestClassifier was fitted with feature names\n",
      "  warnings.warn(\n"
     ]
    },
    {
     "name": "stdout",
     "output_type": "stream",
     "text": [
      "Call initiated: CA62439357d9d1e1040545256d6facfd2d\n"
     ]
    }
   ],
   "source": [
    "import pandas as pd\n",
    "from sklearn.ensemble import RandomForestClassifier\n",
    "from sklearn.model_selection import train_test_split\n",
    "from sklearn.metrics import accuracy_score\n",
    "import joblib\n",
    "from twilio.rest import Client\n",
    "from twilio.twiml.voice_response import VoiceResponse\n",
    "\n",
    "data = pd.read_csv('synthetic_health_data.csv')\n",
    "\n",
    "# Features and target\n",
    "X = data[['pulse_rate', 'body_temp', 'ambient_noise', 'movement', 'stress_indicator', 'user_behavior', 'spo2']]\n",
    "y = data['danger']\n",
    "\n",
    "# Split data into training and test sets\n",
    "X_train, X_test, y_train, y_test = train_test_split(X, y, test_size=0.2, random_state=42)\n",
    "\n",
    "# Train the Random Forest Classifier\n",
    "rf_classifier = RandomForestClassifier(n_estimators=100, random_state=42)\n",
    "rf_classifier.fit(X_train, y_train)\n",
    "\n",
    "# Test accuracy\n",
    "y_pred = rf_classifier.predict(X_test)\n",
    "print(f\"Accuracy: {accuracy_score(y_test, y_pred)}\")\n",
    "\n",
    "# Save the model\n",
    "joblib.dump(rf_classifier, 'danger_classifier_model.pkl')\n",
    "\n",
    "# Function to make an automated call if danger is detected\n",
    "def make_automated_call():\n",
    "    # Twilio account credentials (replace with your actual credentials)\n",
    "    account_sid = 'SID'\n",
    "    auth_token = 'TOKEN'\n",
    "    twilio_number = '+17722526488'\n",
    "    to_phone_number = '+919347768901'  # replace with the number you want to call\n",
    "\n",
    "    # Create a Twilio client\n",
    "    client = Client(account_sid, auth_token)\n",
    "\n",
    "    # Create a TwiML response\n",
    "    response = VoiceResponse()\n",
    "    response.say(\"you are child is in danger . Please take necessary actions. you are child is in danger . Please take necessary actions. \", voice='alice')\n",
    "\n",
    "    # Make the call\n",
    "    call = client.calls.create(\n",
    "        to=to_phone_number,\n",
    "        from_=twilio_number,\n",
    "        twiml=response  # Use the TwiML directly here\n",
    "    )\n",
    "    print(f\"Call initiated: {call.sid}\")\n",
    "\n",
    "# Predict on new input data (for testing the automated call system)\n",
    "def check_for_danger(new_input):\n",
    "    # Load the saved model\n",
    "    rf_classifier = joblib.load('danger_classifier_model.pkl')\n",
    "    \n",
    "    prediction = rf_classifier.predict([new_input])\n",
    "    \n",
    "    if prediction[0] == 1:\n",
    "        print(\"Danger detected! Initiating automated call...\")\n",
    "        make_automated_call()\n",
    "    else:\n",
    "        print(\"No danger detected.\")\n",
    "\n",
    "# Example new input for prediction\n",
    "new_input = [120, 102.5, 65, 1, 0.8, 1, 88]  # sample input corresponding to a 'danger' situation\n",
    "check_for_danger(new_input)\n"
   ]
  },
  {
   "cell_type": "code",
   "execution_count": null,
   "id": "dadbdcf2",
   "metadata": {},
   "outputs": [],
   "source": []
  }
 ],
 "metadata": {
  "kernelspec": {
   "display_name": "Python 3 (ipykernel)",
   "language": "python",
   "name": "python3"
  },
  "language_info": {
   "codemirror_mode": {
    "name": "ipython",
    "version": 3
   },
   "file_extension": ".py",
   "mimetype": "text/x-python",
   "name": "python",
   "nbconvert_exporter": "python",
   "pygments_lexer": "ipython3",
   "version": "3.11.8"
  }
 },
 "nbformat": 4,
 "nbformat_minor": 5
}
